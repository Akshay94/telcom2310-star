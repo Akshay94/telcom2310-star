{
 "cells": [
  {
   "cell_type": "markdown",
   "id": "61856300-d7f4-4cc8-b5f9-5490fee46a53",
   "metadata": {
    "tags": []
   },
   "source": [
    "# Lab 1: Sockets\n",
    "    \n",
    "In this lab you will experiment with basic client-server programs.\n",
    "    \n",
    "<b> Prerequisites  \n",
    "    \n",
    "* You need to have your FABRIC bastion host key pair set up to do this tutorial. If you have not already set this up, follow steps 1-3 at https://learn.fabric-testbed.net/knowledge-base/logging-into-fabric-vms/.\n",
    "* You should be comfortable using ssh and executing basic commands using a UNIX shell. [Tips about how to login to hosts.](https://learn.fabric-testbed.net/knowledge-base/logging-into-fabric-vms/)\n",
    "\n",
    "Note that this is the second step in this assignment. If you have not already created your slice, go to slice creation notebook or [click here](./CreateSlice.ipynb)"
   ]
  },
  {
   "cell_type": "markdown",
   "id": "465f9929-6e09-4e67-8379-be6419b62fcd",
   "metadata": {},
   "source": [
    "## 1. Set up the Experiment\n"
   ]
  },
  {
   "cell_type": "markdown",
   "id": "b800f09d-94b1-4f51-ba2d-eceb4ff34e4a",
   "metadata": {},
   "source": [
    "### 1.1  Retrieve Slice\n",
    "Import the slice you created in the [Create Slice Notebook](./CreateSlice.ipynb).\n"
   ]
  },
  {
   "cell_type": "code",
   "execution_count": null,
   "id": "4622807f-d315-4d10-8f7a-69f763e926ae",
   "metadata": {},
   "outputs": [],
   "source": [
    "from fabrictestbed_extensions.fablib.fablib import FablibManager as fablib_manager\n",
    "\n",
    "fablib = fablib_manager()\n",
    "                     \n",
    "fablib.show_config()\n",
    "\n",
    "import json\n",
    "import traceback"
   ]
  },
  {
   "cell_type": "code",
   "execution_count": null,
   "id": "968dbb3f-f033-4989-96df-8b0956eed211",
   "metadata": {},
   "outputs": [],
   "source": [
    "slice_name = \"Lab01_Sockets\"\n",
    "slice = fablib.get_slice(slice_name)\n",
    "slice.list_nodes()"
   ]
  },
  {
   "cell_type": "markdown",
   "id": "5f78ec5d",
   "metadata": {},
   "source": [
    "**Note: Save the SSH COMMAND for logging into your machines from above cell (TO BE USED LATER)**"
   ]
  },
  {
   "cell_type": "code",
   "execution_count": null,
   "id": "40e93cf0-9dac-40c0-9c19-66ec832367d5",
   "metadata": {},
   "outputs": [],
   "source": [
    "# Get geographic coordinates for each node\n",
    "for node in slice.get_nodes():\n",
    "    print(node.get_name())\n",
    "    site = node.get_site()\n",
    "    fablib.show_site(site, fields=['name','location'])"
   ]
  },
  {
   "cell_type": "markdown",
   "id": "778ffb93-1106-4688-81de-38c2f1665ec6",
   "metadata": {},
   "source": [
    "From the output tables above.\\\n",
    "**1.1.2 - Record the Names of the Sites in Lab1.docx**\\\n",
    "**1.1.3 - Record the Coordinates/Location of the Sites in Lab1.docx**\\\n",
    "**1.1.4 - Calculate the distance between sites using Google Maps and record in Lab1.docx**"
   ]
  },
  {
   "cell_type": "markdown",
   "id": "f817b5a8-20c7-4585-971d-d37bee9edd4a",
   "metadata": {},
   "source": [
    "### 1.2 Upload files\n",
    "Upload test programs to each node."
   ]
  },
  {
   "cell_type": "code",
   "execution_count": null,
   "id": "f8369b80-9627-4f3d-821a-c5997e382688",
   "metadata": {
    "scrolled": true,
    "tags": []
   },
   "outputs": [],
   "source": [
    "for node in slice.get_nodes():\n",
    "    \n",
    "    node.upload_file(\"/home/fabric/work/telcom2310-star/labs/Lab01_Sockets/testprogs/UDP_Echo_Client.py\",\"UDP_Echo_Client.py\")\n",
    "    node.upload_file(\"/home/fabric/work/telcom2310-star/labs/Lab01_Sockets/testprogs/UDP_Echo_Server.py\",\"UDP_Echo_Server.py\")\n",
    "    \n",
    "    node.upload_file(\"/home/fabric/work/telcom2310-star/labs/Lab01_Sockets/testprogs/TCP_Echo_Client.py\",\"TCP_Echo_Client.py\")\n",
    "    node.upload_file(\"/home/fabric/work/telcom2310-star/labs/Lab01_Sockets/testprogs/TCP_Echo_Server.py\",\"TCP_Echo_Server.py\")\n",
    "    \n",
    "    node.upload_file(\"/home/fabric/work/telcom2310-star/labs/Lab01_Sockets/testprogs/UDP_Ping_Client.py\",\"UDP_Ping_Client.py\")\n",
    "    node.upload_file(\"/home/fabric/work/telcom2310-star/labs/Lab01_Sockets/testprogs/UDP_Ping_Server.py\",\"UDP_Ping_Server.py\")\n",
    "    \n",
    "    node.upload_file(\"/home/fabric/work/telcom2310-star/labs/Lab01_Sockets/testprogs/TCP_Ping_Client.py\",\"TCP_Ping_Client.py\")\n",
    "    node.upload_file(\"/home/fabric/work/telcom2310-star/labs/Lab01_Sockets/testprogs/TCP_Ping_Server.py\",\"TCP_Ping_Server.py\")"
   ]
  },
  {
   "cell_type": "markdown",
   "id": "fa2f3405-04c5-46ef-abe5-f1cc730c2184",
   "metadata": {},
   "source": [
    "## 2. Run Experiment"
   ]
  },
  {
   "cell_type": "markdown",
   "id": "dcde24c2-c746-43d6-8ef2-ee868726654b",
   "metadata": {},
   "source": [
    "### 2.1 Getting Started\n",
    "\n",
    "**1. Note Assigned Resources:**\n",
    " - Go to the [Experiments](https://portal.fabric-testbed.net/experiments) page in the Fabric portal.\n",
    " - Click on the \"Telcom2310 - U. Pitt, Spring 2024\" project\n",
    " - Click on \"Slices\" (on the lefthand side of the page)\n",
    " - Click on the \"Lab01_Sockets\" slice. This should bring up a visual representation of your topology.\n",
    " - This view shows the different resources (nodes and network) assigned to you.\n",
    "        \n",
    "        \n",
    "**2. SSH into each node:**\n",
    " - Open a new Terminal, as before.\n",
    " - Paste the SSH Command you noted before in Section 1.1 above.\n",
    " - Do the above steps for both client and server, in two terminals.\n",
    "        \n",
    "<!-- **3. Find the IP address for Server and Client Nodes:**\n",
    "    \n",
    " - In the terminal of each node, enter the command `ip addr`.\n",
    " - You should see an output similar to the following (network addresses will differ):\n",
    "    \n",
    "```\n",
    "1: lo: <LOOPBACK,UP,LOWER_UP> mtu 65536 qdisc noqueue state UNKNOWN group default qlen 1000\n",
    "    link/loopback 00:00:00:00:00:00 brd 00:00:00:00:00:00\n",
    "    inet 127.0.0.1/8 scope host lo\n",
    "       valid_lft forever preferred_lft forever\n",
    "    inet6 ::1/128 scope host \n",
    "       valid_lft forever preferred_lft forever\n",
    "2: enp1s0: <BROADCAST,MULTICAST,UP,LOWER_UP> mtu 9000 qdisc fq_codel state UP group default qlen 1000\n",
    "    link/ether fa:16:3e:1e:16:dd brd ff:ff:ff:ff:ff:ff\n",
    "    inet 10.30.6.146/23 brd 10.30.7.255 scope global dynamic enp1s0\n",
    "       valid_lft 81873sec preferred_lft 81873sec\n",
    "    inet6 2610:e0:a04c:fab2:f816:3eff:fe1e:16dd/64 scope global dynamic mngtmpaddr noprefixroute \n",
    "       valid_lft 86374sec preferred_lft 14374sec\n",
    "    inet6 fe80::f816:3eff:fe1e:16dd/64 scope link \n",
    "       valid_lft forever preferred_lft forever\n",
    "3: enp6s0: <BROADCAST,MULTICAST,UP,LOWER_UP> mtu 1500 qdisc mq state UP group default qlen 1000\n",
    "    link/ether 02:49:03:96:49:74 brd ff:ff:ff:ff:ff:ff\n",
    "    inet 10.135.5.2/24 scope global enp6s0\n",
    "       valid_lft forever preferred_lft forever\n",
    "    inet6 fe80::49:3ff:fe96:4974/64 scope link \n",
    "       valid_lft forever preferred_lft forever\n",
    "```\n",
    " - Look at the entry for interface name (like `enp6s0` here). We will use its IPv4 address, which is the one following the word `inet`. In the example above, this would be `10.135.5.2` (exclude the `/24`)\n",
    " - Note: if your entry for enp6s0 does not show an inet address, run the command `sudo ip link set dev enp6s0 up` and then re-run the `ip addr` command. -->\n",
    "<!--  - **2.1.3 - Record the IP addresses of your client and server nodes in Lab1.docx** -->"
   ]
  },
  {
   "cell_type": "markdown",
   "id": "d8160613-b4d4-484c-a7bd-8c9f35d241f9",
   "metadata": {},
   "source": [
    "### 2.2 Echo Programs\n",
    "\n",
    "1. Check if the machines have recieved the files transfered in \"Section 1.2 Uploading files\" using the command `ls` on both client and server.\n",
    "<br />\n",
    "\n",
    "2. Review the code for the `UDP_Echo_Client.py` and `UDP_Echo_Server.py` programs.\n",
    "\n",
    "Note that you can double-click the file in the JupyterHub and view/edit it from there OR you can use your preferred text editor on your own computer to view copies of the code downloaded from GitHub OR you can run `cat <filename>` to view the file on Client and Server Nodes.\n",
    "<!-- you can view them on a remote Fabric node using the command `cat <filename>` (e.g. `cat UDP_Echo_Server.py`) to print the file contents to your terminal window. -->\n",
    "<br />\n",
    "\n",
    "3. Run the UDP_Echo_Server.py program on your **Server Node** using the command:\n",
    "```\n",
    "python3 UDP_Echo_Server.py\n",
    "```\n",
    "\n",
    "4. Run the UDP_Echo_Client.py program on your **Client Node** using the command:\n",
    "```\n",
    "python3 UDP_Echo_Client.py -a <Node1_IP_Address>\n",
    "```\n",
    "\n",
    "where `<Node1_IP_Address>` is replaced with the IP address of your Server Node found in the “Section 2.1 Getting Started” above.\n",
    "\n",
    "5. You should be prompted to enter a message. Type in a word/sentence/phrase of your choice and hit enter.\n",
    "The `UDP_Echo_Server.py` program running on your Server Node should receive the message, transform it to all UPPERCASE and echo it back to the client.\n",
    "\n",
    "Note that the server will continue to wait for messages until it is manually killed. You can run the client as many times as you want (without stopping the server) and it should receive and echo the message back each time. To stop the server, use CTRL-C to kill the process.\n",
    "\n",
    "**2.2.5 - Copy and paste the output from your server and client into Lab1.docx**\n",
    "<br />\n",
    "\n",
    "6. Repeat steps 2-5 above for `TCP_Echo_Server.py` and `TCP_Echo_Client.py`\n",
    "\n",
    "**2.2.6 - Copy and paste the output from your server and client into Lab1.docx**"
   ]
  },
  {
   "cell_type": "markdown",
   "id": "bbea2c1b-5bc4-4fc2-91ae-72082826167f",
   "metadata": {},
   "source": [
    "### 2.3 Ping Programs\n",
    "\n",
    "1. Review the code for the UDP_Ping_Client.py and UDP_Ping_Server.py programs.\n",
    "\n",
    "2. Run the UDP_Ping_Server.py program on your Server Node using the command:\n",
    "```\n",
    "python3 UDP_Ping_Server.py\n",
    "```\n",
    "\n",
    "3. Run the UDP_Ping_Client.py program on your Client Node using the command:\n",
    "```\n",
    "python3 UDP_Ping_Client.py -a <Node1_IP_Address>\n",
    "```\n",
    "\n",
    "where `<Node1_IP_Address>` is replaced with the IP address of your Server Node found in the “Getting Started” section above\n",
    "\n",
    "By default, the client will perform 10 “pings”, where for each ping it: 1) sends a message to the server, 2) waits to receive a reply from the server, and 3) reports how long it took to send the message and receive the reply.\n",
    "\n",
    "**2.3.3 - Copy and paste the output from your server and client into Lab1.docx**\n",
    "\n",
    "4. Change the number of pings by passing the `-n` commandline argument to the client program to 20 ping requests:\n",
    "```\n",
    "python3 UDP_Ping_Client.py -a <Node1_IP_Address> -n 20\n",
    "```\n",
    "**2.3.4 - Copy and paste the output from your server and client into Lab1.docx**\n",
    "\n",
    "Note that the server will continue to wait for messages until it is manually killed. You can run the client as many times as you want (without stopping the server) and it should respond to the pings each time. To stop the server, use `CTRL-C` to kill the process.\n",
    "\n",
    "5. Based on the geographic coordinates for your sites, calculate your expected UDP ping time. Use Google Maps to find the distance between your sites and assume the speed of light in fiber is 2x10^8 meters/second.\n",
    "\n",
    "**2.3.5 - Show your calculation in Lab1.docx. Compare your calculated value to the average measured ping times. Do the results make sense? Explain.**\n",
    "\n",
    "6. Repeat steps 1-5 (skip Step 3) above for TCP_Ping_Server.py and TCP_Ping_Client.py\n",
    "\n",
    "**2.3.6 - Copy and paste the output from your server and client into Lab1.docx**\n",
    "\n",
    "7. Compare your results from running UDP and TCP Ping programs. What differences do you notice? Can you explain them based on what we’ve discussed in class?\n",
    "\n",
    "**2.3.7 - Answer in Lab1.docx**"
   ]
  },
  {
   "cell_type": "markdown",
   "id": "15a0c8c6-cf5b-4eaa-aea0-d72dbeb1bd41",
   "metadata": {},
   "source": [
    "### 2.4 Loss Emulation\n",
    "\n",
    "Since we can’t predict whether we will actually encounter packet loss during our experiments, here we will artificially inject loss to examine its effects on our UDP and TCP ping programs\n",
    "\n",
    "1. To create artificial loss, run the following command on your Server Node. Replace `<Server-Interface-Name>` with Server's Interface Name from Section 1.1.1 in CreateSlice Notebook:\n",
    "```\n",
    "sudo tc qdisc add dev <Server-Interface-Name> root netem loss 20%\n",
    "```\n",
    "\n",
    "Don’t worry about the details of this command – its effect is to randomly drop 20% of the packets leaving the server.\n",
    "\n",
    "2. Run the UDP_Ping_Server.py program on your Server Node using the command:\n",
    "```\n",
    "python3 UDP_Ping_Server.py\n",
    "```\n",
    "\n",
    "3. Run the UDP_Ping_Client.py program, **pinging 30** times on your Client Node using the command:\n",
    "```\n",
    "python3 UDP_Ping_Client.py -a <Node1_IP_Address> -n 30\n",
    "```\n",
    "\n",
    "<!-- where `<Node1_IP_Address>` is replaced with the IP address of your Server Node found in the “Getting Started” section above -->\n",
    "\n",
    "**2.4.3 - Copy and paste the output from your server and client into Lab1.docx**\n",
    "\n",
    "To stop the server, use `CTRL-C` to kill the process\n",
    "\n",
    "4. Repeat steps 2-3 above for TCP_Ping_Server.py and TCP_Ping_Client.py\n",
    "\n",
    "**2.4.4 - Copy and paste the output from your server and client into Lab1.docx**\n",
    "\n",
    "5. Remove the emulated loss by running the following command on your Server Node. Replace `<Server-Interface-Name>` with Server's Interface Name from Section 1.1.1 in CreateSlice Notebook:\n",
    "```\n",
    "sudo tc qdisc del dev <Server-Interface-Name> root\n",
    "```\n",
    "\n",
    "6. Examine your results from running UDP and TCP Ping programs. What differences do you notice? Can you explain them based on what we’ve discussed in class?\n",
    "\n",
    "**2.4.6 - Answer the above in Lab1.docx**"
   ]
  },
  {
   "cell_type": "markdown",
   "id": "030f4957",
   "metadata": {},
   "source": [
    "## Cleanup Resources\n",
    "\n",
    "Once you have completed the steps above, delete your slice to free up resources for other users. Note: if you stopped the notebook between running the first 3 code cells and getting to this point, you should re-run the first 2 code cells (but not the third) to retrieve the slice before running the following cell)\n",
    "\n",
    "### Uncomment the following code and run this cell to cleanup AFTER you are done with this Lab"
   ]
  },
  {
   "cell_type": "code",
   "execution_count": null,
   "id": "7917d909-9f50-4dcd-9f92-41edf15fa08f",
   "metadata": {},
   "outputs": [],
   "source": [
    "# try:\n",
    "#     slice.delete()\n",
    "# except Exception as e:\n",
    "#     print(f\"Fail: {e}\")"
   ]
  },
  {
   "cell_type": "markdown",
   "id": "ec710637-76cf-45dd-8da1-bb4f6f465881",
   "metadata": {},
   "source": [
    "## End"
   ]
  }
 ],
 "metadata": {
  "kernelspec": {
   "display_name": "Python 3 (ipykernel)",
   "language": "python",
   "name": "python3"
  },
  "language_info": {
   "codemirror_mode": {
    "name": "ipython",
    "version": 3
   },
   "file_extension": ".py",
   "mimetype": "text/x-python",
   "name": "python",
   "nbconvert_exporter": "python",
   "pygments_lexer": "ipython3",
   "version": "3.9.18"
  },
  "varInspector": {
   "cols": {
    "lenName": 16,
    "lenType": 16,
    "lenVar": 40
   },
   "kernels_config": {
    "python": {
     "delete_cmd_postfix": "",
     "delete_cmd_prefix": "del ",
     "library": "var_list.py",
     "varRefreshCmd": "print(var_dic_list())"
    },
    "r": {
     "delete_cmd_postfix": ") ",
     "delete_cmd_prefix": "rm(",
     "library": "var_list.r",
     "varRefreshCmd": "cat(var_dic_list()) "
    }
   },
   "types_to_exclude": [
    "module",
    "function",
    "builtin_function_or_method",
    "instance",
    "_Feature"
   ],
   "window_display": false
  }
 },
 "nbformat": 4,
 "nbformat_minor": 5
}
